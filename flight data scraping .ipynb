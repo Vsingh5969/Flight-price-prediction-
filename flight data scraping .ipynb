{
 "cells": [
  {
   "cell_type": "code",
   "execution_count": 1,
   "id": "608e496d",
   "metadata": {},
   "outputs": [],
   "source": [
    "import pandas as pd \n",
    "import numpy as np \n",
    "import matplotlib.pyplot as plt \n",
    "import seaborn as sb\n",
    "import selenium\n",
    "from  selenium import webdriver\n",
    "\n",
    "import pandas as pd \n",
    "from bs4 import BeautifulSoup\n",
    "import time\n",
    "import numpy as np\n",
    "\n",
    "from selenium import webdriver\n",
    "from selenium.common.exceptions import NoSuchElementException,StaleElementReferenceException\n",
    "import requests\n",
    "import re\n",
    "from selenium.webdriver.common.by import By"
   ]
  },
  {
   "cell_type": "code",
   "execution_count": null,
   "id": "7fe2a9e1",
   "metadata": {},
   "outputs": [],
   "source": [
    "##############################################################################################################################"
   ]
  },
  {
   "cell_type": "code",
   "execution_count": 51,
   "id": "19fd1398",
   "metadata": {},
   "outputs": [
    {
     "name": "stderr",
     "output_type": "stream",
     "text": [
      "<ipython-input-51-edb3b712a12f>:1: DeprecationWarning: executable_path has been deprecated, please pass in a Service object\n",
      "  driver=webdriver.Chrome('chromedriver.exe')\n"
     ]
    }
   ],
   "source": [
    "driver=webdriver.Chrome('chromedriver.exe')\n",
    "driver.get('https://flight.yatra.com/air-search-ui/dom2/trigger?type=O&viewName=normal&flexi=0&noOfSegments=1&origin=DEL&originCountry=IN&destination=BOM&destinationCountry=IN&flight_depart_date=01%2F10%2F2022&ADT=1&CHD=0&INF=0&class=Economy&source=fresco-home&unqvaldesktop=1152477740312')\n"
   ]
  },
  {
   "cell_type": "code",
   "execution_count": 72,
   "id": "764eda06",
   "metadata": {},
   "outputs": [
    {
     "name": "stderr",
     "output_type": "stream",
     "text": [
      "<ipython-input-72-c9005edf09ce>:1: DeprecationWarning: executable_path has been deprecated, please pass in a Service object\n",
      "  driver=webdriver.Chrome('chromedriver.exe')\n"
     ]
    }
   ],
   "source": [
    "driver=webdriver.Chrome('chromedriver.exe')\n",
    "driver.get('https://flight.yatra.com/air-search-ui/dom2/trigger?type=O&viewName=normal&flexi=0&noOfSegments=1&origin=DEL&originCountry=IN&destination=BOM&destinationCountry=IN&flight_depart_date=02%2F10%2F2022&ADT=1&CHD=0&INF=0&class=Economy&source=fresco-home&unqvaldesktop=1059210897778')"
   ]
  },
  {
   "cell_type": "code",
   "execution_count": 75,
   "id": "12cceaa9",
   "metadata": {},
   "outputs": [
    {
     "name": "stderr",
     "output_type": "stream",
     "text": [
      "<ipython-input-75-71b9b32368d2>:1: DeprecationWarning: executable_path has been deprecated, please pass in a Service object\n",
      "  driver=webdriver.Chrome('chromedriver.exe')\n"
     ]
    }
   ],
   "source": [
    "driver=webdriver.Chrome('chromedriver.exe')\n",
    "driver.get('https://flight.yatra.com/air-search-ui/dom2/trigger?type=O&viewName=normal&flexi=0&noOfSegments=1&origin=DEL&originCountry=IN&destination=BOM&destinationCountry=IN&flight_depart_date=03%2F10%2F2022&ADT=1&CHD=0&INF=0&class=Economy&source=fresco-home&unqvaldesktop=540512372380')"
   ]
  },
  {
   "cell_type": "code",
   "execution_count": 78,
   "id": "0d51298c",
   "metadata": {},
   "outputs": [
    {
     "name": "stderr",
     "output_type": "stream",
     "text": [
      "<ipython-input-78-584257b2edf6>:1: DeprecationWarning: executable_path has been deprecated, please pass in a Service object\n",
      "  driver=webdriver.Chrome('chromedriver.exe')\n"
     ]
    }
   ],
   "source": [
    "driver=webdriver.Chrome('chromedriver.exe')\n",
    "driver.get('https://flight.yatra.com/air-search-ui/dom2/trigger?type=O&viewName=normal&flexi=0&noOfSegments=1&origin=GOI&originCountry=IN&destination=BLR&destinationCountry=IN&flight_depart_date=04%2F10%2F2022&ADT=1&CHD=0&INF=0&class=Economy&source=fresco-home&unqvaldesktop=1363516443510')"
   ]
  },
  {
   "cell_type": "code",
   "execution_count": 81,
   "id": "47090ec0",
   "metadata": {},
   "outputs": [
    {
     "name": "stderr",
     "output_type": "stream",
     "text": [
      "<ipython-input-81-0176a5f9f757>:1: DeprecationWarning: executable_path has been deprecated, please pass in a Service object\n",
      "  driver=webdriver.Chrome('chromedriver.exe')\n"
     ]
    }
   ],
   "source": [
    "driver=webdriver.Chrome('chromedriver.exe')\n",
    "driver.get('https://flight.yatra.com/air-search-ui/dom2/trigger?ADT=1&CHD=0&INF=0&class=Economy&destination=MAA&destinationCountry=IN&flexi=0&flight_depart_date=06%2F10%2F2022&hb=&noOfSegments=1&origin=DEL&originCountry=IN&type=O&unique=1663697266666&viewName=normal')"
   ]
  },
  {
   "cell_type": "code",
   "execution_count": 84,
   "id": "32e44457",
   "metadata": {},
   "outputs": [
    {
     "name": "stderr",
     "output_type": "stream",
     "text": [
      "<ipython-input-84-5302ecbe13a8>:1: DeprecationWarning: executable_path has been deprecated, please pass in a Service object\n",
      "  driver=webdriver.Chrome('chromedriver.exe')\n"
     ]
    }
   ],
   "source": [
    "driver=webdriver.Chrome('chromedriver.exe')\n",
    "driver.get('https://flight.yatra.com/air-search-ui/dom2/trigger?ADT=1&CHD=0&INF=0&class=Economy&destination=MAA&destinationCountry=IN&flexi=0&flight_depart_date=10%2F10%2F2022&hb=&noOfSegments=1&origin=PNQ&originCountry=IN&type=O&unique=1663697404955&viewName=normal')"
   ]
  },
  {
   "cell_type": "code",
   "execution_count": 87,
   "id": "fa2a3a4f",
   "metadata": {},
   "outputs": [
    {
     "name": "stderr",
     "output_type": "stream",
     "text": [
      "<ipython-input-87-5302ecbe13a8>:1: DeprecationWarning: executable_path has been deprecated, please pass in a Service object\n",
      "  driver=webdriver.Chrome('chromedriver.exe')\n"
     ]
    }
   ],
   "source": [
    "driver=webdriver.Chrome('chromedriver.exe')\n",
    "driver.get('https://flight.yatra.com/air-search-ui/dom2/trigger?ADT=1&CHD=0&INF=0&class=Economy&destination=MAA&destinationCountry=IN&flexi=0&flight_depart_date=10%2F10%2F2022&hb=&noOfSegments=1&origin=PNQ&originCountry=IN&type=O&unique=1663697404955&viewName=normal')"
   ]
  },
  {
   "cell_type": "code",
   "execution_count": 90,
   "id": "2cc3dd37",
   "metadata": {},
   "outputs": [
    {
     "name": "stderr",
     "output_type": "stream",
     "text": [
      "<ipython-input-90-98692a3c0b35>:1: DeprecationWarning: executable_path has been deprecated, please pass in a Service object\n",
      "  driver=webdriver.Chrome('chromedriver.exe')\n"
     ]
    }
   ],
   "source": [
    "driver=webdriver.Chrome('chromedriver.exe')\n",
    "driver.get('https://flight.yatra.com/air-search-ui/dom2/trigger?type=O&viewName=normal&flexi=0&noOfSegments=1&origin=HYD&originCountry=IN&destination=DEL&destinationCountry=IN&flight_depart_date=10%2F10%2F2022&ADT=1&CHD=0&INF=0&class=Economy&source=fresco-home&unqvaldesktop=730812545426')"
   ]
  },
  {
   "cell_type": "code",
   "execution_count": 94,
   "id": "32baf712",
   "metadata": {},
   "outputs": [
    {
     "name": "stderr",
     "output_type": "stream",
     "text": [
      "<ipython-input-94-9e35fce1e3ce>:1: DeprecationWarning: executable_path has been deprecated, please pass in a Service object\n",
      "  driver=webdriver.Chrome('chromedriver.exe')\n"
     ]
    }
   ],
   "source": [
    "driver=webdriver.Chrome('chromedriver.exe')\n",
    "driver.get('https://flight.yatra.com/air-search-ui/dom2/trigger?type=O&viewName=normal&flexi=0&noOfSegments=1&origin=HYD&originCountry=IN&destination=DEL&destinationCountry=IN&flight_depart_date=13%2F10%2F2022&ADT=1&CHD=0&INF=0&class=Economy&source=fresco-home&unqvaldesktop=1295869247218')"
   ]
  },
  {
   "cell_type": "code",
   "execution_count": 98,
   "id": "9d6a2892",
   "metadata": {},
   "outputs": [
    {
     "name": "stderr",
     "output_type": "stream",
     "text": [
      "<ipython-input-98-b8970bb09b21>:1: DeprecationWarning: executable_path has been deprecated, please pass in a Service object\n",
      "  driver=webdriver.Chrome('chromedriver.exe')\n"
     ]
    }
   ],
   "source": [
    "driver=webdriver.Chrome('chromedriver.exe')\n",
    "driver.get('https://flight.yatra.com/air-search-ui/dom2/trigger?type=O&viewName=normal&flexi=0&noOfSegments=1&origin=PNQ&originCountry=IN&destination=CCU&destinationCountry=IN&flight_depart_date=13%2F10%2F2022&ADT=1&CHD=0&INF=0&class=Economy&source=fresco-home&unqvaldesktop=626391350069')"
   ]
  },
  {
   "cell_type": "code",
   "execution_count": 101,
   "id": "55c17df8",
   "metadata": {},
   "outputs": [
    {
     "name": "stderr",
     "output_type": "stream",
     "text": [
      "<ipython-input-101-7cfd1fdbbd1c>:1: DeprecationWarning: executable_path has been deprecated, please pass in a Service object\n",
      "  driver=webdriver.Chrome('chromedriver.exe')\n"
     ]
    }
   ],
   "source": [
    "driver=webdriver.Chrome('chromedriver.exe')\n",
    "driver.get('https://flight.yatra.com/air-search-ui/dom2/trigger?type=O&viewName=normal&flexi=0&noOfSegments=1&origin=LKO&originCountry=IN&destination=BOM&destinationCountry=IN&flight_depart_date=13%2F10%2F2022&ADT=1&CHD=0&INF=0&class=Economy&source=fresco-home&unqvaldesktop=435957544222')"
   ]
  },
  {
   "cell_type": "code",
   "execution_count": 104,
   "id": "f4b07227",
   "metadata": {},
   "outputs": [
    {
     "name": "stderr",
     "output_type": "stream",
     "text": [
      "<ipython-input-104-a45f3d1a6ca2>:1: DeprecationWarning: executable_path has been deprecated, please pass in a Service object\n",
      "  driver=webdriver.Chrome('chromedriver.exe')\n"
     ]
    }
   ],
   "source": [
    "driver=webdriver.Chrome('chromedriver.exe')\n",
    "driver.get('https://flight.yatra.com/air-search-ui/dom2/trigger?type=O&viewName=normal&flexi=0&noOfSegments=1&origin=JAI&originCountry=IN&destination=HYD&destinationCountry=IN&flight_depart_date=14%2F10%2F2022&ADT=1&CHD=0&INF=0&class=Economy&source=fresco-home&unqvaldesktop=654698375031')"
   ]
  },
  {
   "cell_type": "code",
   "execution_count": 107,
   "id": "38728599",
   "metadata": {},
   "outputs": [
    {
     "name": "stderr",
     "output_type": "stream",
     "text": [
      "<ipython-input-107-1fa618ad6c47>:1: DeprecationWarning: executable_path has been deprecated, please pass in a Service object\n",
      "  driver=webdriver.Chrome('chromedriver.exe')\n"
     ]
    }
   ],
   "source": [
    "driver=webdriver.Chrome('chromedriver.exe')\n",
    "driver.get('https://flight.yatra.com/air-search-ui/seodom/trigger?type=O&viewName=normal&flexi=0&noOfSegments=1&origin=COK&originCountry=IN&destination=DEL&preferred=&destinationCountry=IN&flight_depart_date=28%2F09%2F2022&ADT=1&CHD=0&INF=0&class=Economy&source=seo')"
   ]
  },
  {
   "cell_type": "code",
   "execution_count": 110,
   "id": "e170bee8",
   "metadata": {},
   "outputs": [
    {
     "name": "stderr",
     "output_type": "stream",
     "text": [
      "<ipython-input-110-cb0909f0f44d>:1: DeprecationWarning: executable_path has been deprecated, please pass in a Service object\n",
      "  driver=webdriver.Chrome('chromedriver.exe')\n"
     ]
    }
   ],
   "source": [
    "driver=webdriver.Chrome('chromedriver.exe')\n",
    "driver.get('https://flight.yatra.com/air-search-ui/seodom/trigger?type=O&viewName=normal&flexi=0&noOfSegments=1&origin=BOM&originCountry=IN&destination=BBI&preferred=&destinationCountry=IN&flight_depart_date=17%2F10%2F2022&ADT=1&CHD=0&INF=0&class=Economy&source=seo')"
   ]
  },
  {
   "cell_type": "code",
   "execution_count": 113,
   "id": "ca69d5fc",
   "metadata": {},
   "outputs": [
    {
     "name": "stderr",
     "output_type": "stream",
     "text": [
      "<ipython-input-113-fcf49c4cc28a>:1: DeprecationWarning: executable_path has been deprecated, please pass in a Service object\n",
      "  driver=webdriver.Chrome('chromedriver.exe')\n"
     ]
    }
   ],
   "source": [
    "driver=webdriver.Chrome('chromedriver.exe')\n",
    "driver.get('https://flight.yatra.com/air-search-ui/seodom/trigger?type=O&viewName=normal&flexi=0&noOfSegments=1&origin=IXR&originCountry=IN&destination=BLR&preferred=&destinationCountry=IN&flight_depart_date=24%2F10%2F2022&ADT=1&CHD=0&INF=0&class=Economy&source=seo')"
   ]
  },
  {
   "cell_type": "code",
   "execution_count": null,
   "id": "7591b9f7",
   "metadata": {},
   "outputs": [],
   "source": []
  },
  {
   "cell_type": "code",
   "execution_count": 114,
   "id": "8cd4a45b",
   "metadata": {},
   "outputs": [],
   "source": [
    "try :\n",
    "    airline=driver.find_elements(By.XPATH,'//span[@class=\"i-b text ellipsis\"]')\n",
    "    depart=driver.find_elements(By.XPATH,'//p[@class=\"fs-10 font-lightgrey no-wrap city ellipsis\"]')\n",
    "    stop=driver.find_elements(By.XPATH,'//div[@class=\" font-lightgrey fs-10 tipsy i-b fs-10\"]')\n",
    "    time_l=driver.find_elements(By.XPATH,'//p[@class=\"fs-12 bold du mb-2\"]')\n",
    "    price=driver.find_elements(By.XPATH,'//div[@class=\"i-b tipsy fare-summary-tooltip fs-18\"]')\n",
    "    a_time=driver.find_elements(By.XPATH,'//p[@class=\"bold fs-15 mb-2 pr time\"]')\n",
    "    d_time=driver.find_elements(By.XPATH,'//div[@class=\"i-b pr\"]')\n",
    "   \n",
    "    for t in airline:\n",
    "        c=t.text\n",
    "        air.append(c)\n",
    "        \n",
    "    for d in depart:\n",
    "        k=d.text\n",
    "        dep.append(k)\n",
    "    for i in stop:\n",
    "        v=i.text\n",
    "        st.append(v)\n",
    "    for o in price:\n",
    "        g=o.text\n",
    "        pr.append(g)\n",
    "    for t in time_l:\n",
    "        j=t.text\n",
    "        tim.append(j)\n",
    "    for a in a_time:\n",
    "        o=a.text\n",
    "        arri.append(o)\n",
    "            \n",
    "    for d in d_time:\n",
    "        p=d.text\n",
    "        deppt.append(p)\n",
    "        \n",
    "except NoSuchElementException :\n",
    "    air.append(None)\n",
    "    dep.append(None)\n",
    "    st.append(None)\n",
    "    pr.append(None)\n",
    "    tim.append('not present')\n",
    "    arri.append('Not present')\n",
    "    deppt.append('not append')"
   ]
  },
  {
   "cell_type": "code",
   "execution_count": 127,
   "id": "e8c22a99",
   "metadata": {},
   "outputs": [
    {
     "data": {
      "text/plain": [
       "(1505, 3010, 1505, 1505, 1505, 1505, 1505)"
      ]
     },
     "execution_count": 127,
     "metadata": {},
     "output_type": "execute_result"
    }
   ],
   "source": [
    "len(air),len(dep),len(st),len(pr),len(tim),len(arri),len(deppt) "
   ]
  },
  {
   "cell_type": "code",
   "execution_count": null,
   "id": "ec4887af",
   "metadata": {},
   "outputs": [],
   "source": []
  },
  {
   "cell_type": "code",
   "execution_count": 119,
   "id": "2dd9eb57",
   "metadata": {},
   "outputs": [],
   "source": [
    "departure=dep[0: :2]\n",
    "arrival=dep[1: :2]"
   ]
  },
  {
   "cell_type": "code",
   "execution_count": 122,
   "id": "9bf2f49e",
   "metadata": {},
   "outputs": [
    {
     "data": {
      "text/plain": [
       "(1505, 1505)"
      ]
     },
     "execution_count": 122,
     "metadata": {},
     "output_type": "execute_result"
    }
   ],
   "source": [
    "len(arrival),len(departure)"
   ]
  },
  {
   "cell_type": "code",
   "execution_count": 198,
   "id": "123ce3ba",
   "metadata": {},
   "outputs": [],
   "source": [
    "data=pd.DataFrame({'airline':air,'departure':departure,'arrival':arrival,'stop':st,'time':tim,'depart_time':deppt,'arrival_time':arrit,'price':k})"
   ]
  },
  {
   "cell_type": "code",
   "execution_count": 200,
   "id": "210c902e",
   "metadata": {},
   "outputs": [],
   "source": [
    "data.to_csv('flight data 4.csv')"
   ]
  },
  {
   "cell_type": "code",
   "execution_count": null,
   "id": "03898851",
   "metadata": {},
   "outputs": [],
   "source": []
  },
  {
   "cell_type": "code",
   "execution_count": null,
   "id": "a8698c76",
   "metadata": {},
   "outputs": [],
   "source": []
  },
  {
   "cell_type": "code",
   "execution_count": null,
   "id": "77421a14",
   "metadata": {},
   "outputs": [],
   "source": []
  },
  {
   "cell_type": "code",
   "execution_count": null,
   "id": "061514db",
   "metadata": {},
   "outputs": [],
   "source": []
  },
  {
   "cell_type": "code",
   "execution_count": null,
   "id": "301ca47c",
   "metadata": {},
   "outputs": [],
   "source": []
  },
  {
   "cell_type": "code",
   "execution_count": null,
   "id": "023d0b5e",
   "metadata": {},
   "outputs": [],
   "source": []
  },
  {
   "cell_type": "code",
   "execution_count": null,
   "id": "d71a2e3b",
   "metadata": {},
   "outputs": [],
   "source": []
  },
  {
   "cell_type": "code",
   "execution_count": null,
   "id": "902774d1",
   "metadata": {},
   "outputs": [],
   "source": []
  },
  {
   "cell_type": "code",
   "execution_count": null,
   "id": "818281a4",
   "metadata": {},
   "outputs": [],
   "source": []
  },
  {
   "cell_type": "code",
   "execution_count": null,
   "id": "473077f2",
   "metadata": {},
   "outputs": [],
   "source": []
  },
  {
   "cell_type": "code",
   "execution_count": null,
   "id": "8067b111",
   "metadata": {},
   "outputs": [],
   "source": []
  }
 ],
 "metadata": {
  "kernelspec": {
   "display_name": "Python 3",
   "language": "python",
   "name": "python3"
  },
  "language_info": {
   "codemirror_mode": {
    "name": "ipython",
    "version": 3
   },
   "file_extension": ".py",
   "mimetype": "text/x-python",
   "name": "python",
   "nbconvert_exporter": "python",
   "pygments_lexer": "ipython3",
   "version": "3.8.8"
  },
  "varInspector": {
   "cols": {
    "lenName": 16,
    "lenType": 16,
    "lenVar": 40
   },
   "kernels_config": {
    "python": {
     "delete_cmd_postfix": "",
     "delete_cmd_prefix": "del ",
     "library": "var_list.py",
     "varRefreshCmd": "print(var_dic_list())"
    },
    "r": {
     "delete_cmd_postfix": ") ",
     "delete_cmd_prefix": "rm(",
     "library": "var_list.r",
     "varRefreshCmd": "cat(var_dic_list()) "
    }
   },
   "types_to_exclude": [
    "module",
    "function",
    "builtin_function_or_method",
    "instance",
    "_Feature"
   ],
   "window_display": false
  }
 },
 "nbformat": 4,
 "nbformat_minor": 5
}
